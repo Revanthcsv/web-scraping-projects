{
 "cells": [
  {
   "cell_type": "markdown",
   "id": "ff439395",
   "metadata": {},
   "source": [
    "## TASK-2: Handling Dynamic Content"
   ]
  },
  {
   "cell_type": "markdown",
   "id": "e44568a4",
   "metadata": {},
   "source": [
    "As for the task mamaearth's website is used to extract the discount price after adding it to the cart from the dynamically loading website"
   ]
  },
  {
   "cell_type": "markdown",
   "id": "b079364d",
   "metadata": {},
   "source": [
    "## Note:\n",
    "->error handling was implemented to handling error.\n",
    "\n",
    "->Code can handle delays of less than 60 seconds, if highers delays are found the code will shows.\n",
    "\n",
    "->The code runs only if user is using firebox as browser.Code need to be changed according to browser"
   ]
  },
  {
   "cell_type": "code",
   "execution_count": 1,
   "id": "f9fefbb0",
   "metadata": {},
   "outputs": [],
   "source": [
    "#importing requried libraies\n",
    "from selenium import webdriver\n",
    "from selenium.webdriver.firefox.service import Service\n",
    "from selenium.webdriver.common.by import By\n",
    "from selenium.webdriver.support.ui import WebDriverWait\n",
    "from selenium.webdriver.support import expected_conditions as EC\n",
    "import time"
   ]
  },
  {
   "cell_type": "code",
   "execution_count": 2,
   "id": "36a81908",
   "metadata": {},
   "outputs": [],
   "source": [
    "#setting upwebdriver for firefox \n",
    "service=Service(r'C:\\users\\asuna\\Downloads\\geckodriver.exe') #different for different devices\n",
    "driver= webdriver.Firefox(service=service)\n",
    "driver.maximize_window()"
   ]
  },
  {
   "cell_type": "code",
   "execution_count": 3,
   "id": "a752916c",
   "metadata": {},
   "outputs": [],
   "source": [
    "#function to navigate into webpage\n",
    "def navigate_to_page(url):\n",
    "    driver.get(url)\n",
    "    print('Opened the page')"
   ]
  },
  {
   "cell_type": "code",
   "execution_count": 4,
   "id": "84d01144",
   "metadata": {},
   "outputs": [],
   "source": [
    "#function to remove popups which randomly popout after opening the page\n",
    "def pop_ups():\n",
    "    try:\n",
    "        #waiting time is added cause popup appear rounghly 10 sec after opening the page\n",
    "        time.sleep(20)\n",
    "        pop_up = driver.find_element(By.CLASS_NAME, 'wzrk-cancel')\n",
    "        pop_up.click()\n",
    "        print(\"Pop-up has been removed\")\n",
    "    except:\n",
    "        print(\"No pop-ups found\")"
   ]
  },
  {
   "cell_type": "code",
   "execution_count": 5,
   "id": "eecdc500",
   "metadata": {},
   "outputs": [],
   "source": [
    "#Common function for dynamically handling the webpage through click\n",
    "def click_element(by_method, identifier,message):\n",
    "    try:\n",
    "        element = WebDriverWait(driver,60).until(EC.element_to_be_clickable((by_method, identifier))) #for handling delays\n",
    "        element.click()\n",
    "        print(message)\n",
    "        time.sleep(2)\n",
    "    except Exception as e:\n",
    "        print(f'Error: {e}')"
   ]
  },
  {
   "cell_type": "code",
   "execution_count": 6,
   "id": "47a1b1a1",
   "metadata": {},
   "outputs": [],
   "source": [
    "#function to scrape final discount price \n",
    "def get_text(by_method, identifier):\n",
    "    try:\n",
    "        element = WebDriverWait(driver, 100).until(EC.presence_of_all_elements_located((by_method, identifier))#for handling delays\n",
    "        )\n",
    "        return element[4].text.strip() #index is taken as 4 as price is present in the 4th div tag with same class\n",
    "    except Exception as e:\n",
    "        print(f'Error: {e}')"
   ]
  },
  {
   "cell_type": "code",
   "execution_count": 7,
   "id": "145f0cc9",
   "metadata": {},
   "outputs": [
    {
     "name": "stdout",
     "output_type": "stream",
     "text": [
      "Opened the page\n",
      "No pop-ups found\n",
      "Entered_view_all\n",
      "Selected_item\n",
      "Added_to_cart\n",
      "Entered_cart\n",
      "\u001b[1mDiscounted_price: ₹407.55\u001b[0m\n"
     ]
    }
   ],
   "source": [
    "#Code to navigate the page and extract dicount price\n",
    "try:\n",
    "    url = 'https://mamaearth.in/'\n",
    "    navigate_to_page(url)\n",
    "    \n",
    "    pop_ups() \n",
    "    \n",
    "    click_element(By.LINK_TEXT,'VIEW ALL','Entered_view_all') #clicking on viewall to show all the best selling items\n",
    "        \n",
    "    driver.execute_script(f'window.scrollBy(0,500)', '')#scrolling a bit so the product description can viewed\n",
    "    \n",
    "    click_element(By.PARTIAL_LINK_TEXT,'SPF 50 & PA++++ Protection | Adds Natural Glow','Selected_item') #checking into item\n",
    "\n",
    "    click_element(By.CLASS_NAME,'addTocart_pdp','Added_to_cart')#clicking on add to cart button\n",
    "    \n",
    "    time.sleep(4) #waiting for product to get added into cart\n",
    "        \n",
    "    click_element(By.CLASS_NAME,'cart-trigger','Entered_cart') #navigating into cart \n",
    "    \n",
    "    price = get_text(By.CLASS_NAME, 'item-value') #scraping the price\n",
    "    if price:\n",
    "        print(f'\\033[1mDiscounted_price: {price}\\033[0m') #printing discount price in bold\n",
    "    else:\n",
    "        print('Price not found')\n",
    "    \n",
    "    #closing the webdriver\n",
    "    driver.quit()\n",
    "        \n",
    "except Exception as e:\n",
    "    #printing errors if found\n",
    "    print(f'Error:{e}')"
   ]
  },
  {
   "cell_type": "code",
   "execution_count": null,
   "id": "3a98de44",
   "metadata": {},
   "outputs": [],
   "source": []
  },
  {
   "cell_type": "code",
   "execution_count": null,
   "id": "86397bd5",
   "metadata": {},
   "outputs": [],
   "source": []
  }
 ],
 "metadata": {
  "kernelspec": {
   "display_name": "Python 3 (ipykernel)",
   "language": "python",
   "name": "python3"
  },
  "language_info": {
   "codemirror_mode": {
    "name": "ipython",
    "version": 3
   },
   "file_extension": ".py",
   "mimetype": "text/x-python",
   "name": "python",
   "nbconvert_exporter": "python",
   "pygments_lexer": "ipython3",
   "version": "3.11.5"
  }
 },
 "nbformat": 4,
 "nbformat_minor": 5
}

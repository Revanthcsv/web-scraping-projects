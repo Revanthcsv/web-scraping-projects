{
 "cells": [
  {
   "cell_type": "code",
   "execution_count": 3,
   "id": "9c68dd0f",
   "metadata": {},
   "outputs": [],
   "source": [
    "from bs4 import BeautifulSoup\n",
    "import requests\n",
    "import pandas as pd"
   ]
  },
  {
   "cell_type": "code",
   "execution_count": 4,
   "id": "19307f4e",
   "metadata": {},
   "outputs": [],
   "source": [
    "\n",
    "url='https://en.wikipedia.org/wiki/List_of_largest_companies_in_the_United_States_by_revenue'\n",
    "page=requests.get(url)\n",
    "soup=BeautifulSoup(page.text,'html')"
   ]
  },
  {
   "cell_type": "code",
   "execution_count": 5,
   "id": "5f9f7185",
   "metadata": {
    "scrolled": true
   },
   "outputs": [],
   "source": [
    "#soup"
   ]
  },
  {
   "cell_type": "code",
   "execution_count": 6,
   "id": "8c49ce40",
   "metadata": {},
   "outputs": [],
   "source": [
    "#finding the first table\n",
    "\n",
    "#soup.find_all('table')[1]"
   ]
  },
  {
   "cell_type": "code",
   "execution_count": 7,
   "id": "340d6879",
   "metadata": {},
   "outputs": [],
   "source": [
    "table1=soup.find_all('table')[1]"
   ]
  },
  {
   "cell_type": "code",
   "execution_count": 8,
   "id": "d43a47c8",
   "metadata": {
    "scrolled": true
   },
   "outputs": [
    {
     "data": {
      "text/plain": [
       "[<th>Rank\n",
       " </th>,\n",
       " <th>Name\n",
       " </th>,\n",
       " <th>Industry\n",
       " </th>,\n",
       " <th>Revenue <br/>(USD millions)\n",
       " </th>,\n",
       " <th>Revenue growth\n",
       " </th>,\n",
       " <th>Employees\n",
       " </th>,\n",
       " <th>Headquarters\n",
       " </th>]"
      ]
     },
     "execution_count": 8,
     "metadata": {},
     "output_type": "execute_result"
    }
   ],
   "source": [
    "table1.find_all('th')"
   ]
  },
  {
   "cell_type": "code",
   "execution_count": 9,
   "id": "08f1f10f",
   "metadata": {},
   "outputs": [],
   "source": [
    "#finding titles in table1\n",
    "titles1=table1.find_all('th')"
   ]
  },
  {
   "cell_type": "code",
   "execution_count": 10,
   "id": "d14ca33c",
   "metadata": {},
   "outputs": [],
   "source": [
    "t1=[t.text.strip() for t in titles1]"
   ]
  },
  {
   "cell_type": "code",
   "execution_count": 11,
   "id": "b4ee2a1a",
   "metadata": {},
   "outputs": [
    {
     "data": {
      "text/plain": [
       "['Rank',\n",
       " 'Name',\n",
       " 'Industry',\n",
       " 'Revenue (USD millions)',\n",
       " 'Revenue growth',\n",
       " 'Employees',\n",
       " 'Headquarters']"
      ]
     },
     "execution_count": 11,
     "metadata": {},
     "output_type": "execute_result"
    }
   ],
   "source": [
    "t1"
   ]
  },
  {
   "cell_type": "code",
   "execution_count": 12,
   "id": "007e4081",
   "metadata": {},
   "outputs": [],
   "source": [
    "#creating a dataframe using titles as columns\n",
    "\n",
    "df1=pd.DataFrame(columns=t1)"
   ]
  },
  {
   "cell_type": "code",
   "execution_count": 13,
   "id": "19a3da01",
   "metadata": {},
   "outputs": [
    {
     "data": {
      "text/html": [
       "<div>\n",
       "<style scoped>\n",
       "    .dataframe tbody tr th:only-of-type {\n",
       "        vertical-align: middle;\n",
       "    }\n",
       "\n",
       "    .dataframe tbody tr th {\n",
       "        vertical-align: top;\n",
       "    }\n",
       "\n",
       "    .dataframe thead th {\n",
       "        text-align: right;\n",
       "    }\n",
       "</style>\n",
       "<table border=\"1\" class=\"dataframe\">\n",
       "  <thead>\n",
       "    <tr style=\"text-align: right;\">\n",
       "      <th></th>\n",
       "      <th>Rank</th>\n",
       "      <th>Name</th>\n",
       "      <th>Industry</th>\n",
       "      <th>Revenue (USD millions)</th>\n",
       "      <th>Revenue growth</th>\n",
       "      <th>Employees</th>\n",
       "      <th>Headquarters</th>\n",
       "    </tr>\n",
       "  </thead>\n",
       "  <tbody>\n",
       "  </tbody>\n",
       "</table>\n",
       "</div>"
      ],
      "text/plain": [
       "Empty DataFrame\n",
       "Columns: [Rank, Name, Industry, Revenue (USD millions), Revenue growth, Employees, Headquarters]\n",
       "Index: []"
      ]
     },
     "execution_count": 13,
     "metadata": {},
     "output_type": "execute_result"
    }
   ],
   "source": [
    "df1"
   ]
  },
  {
   "cell_type": "code",
   "execution_count": 14,
   "id": "352362bd",
   "metadata": {},
   "outputs": [
    {
     "data": {
      "text/plain": [
       "0"
      ]
     },
     "execution_count": 14,
     "metadata": {},
     "output_type": "execute_result"
    }
   ],
   "source": [
    "len(df1)"
   ]
  },
  {
   "cell_type": "code",
   "execution_count": 16,
   "id": "aa7bc346",
   "metadata": {},
   "outputs": [],
   "source": [
    "#finding rows\n",
    "#table1.find_all('tr')"
   ]
  },
  {
   "cell_type": "code",
   "execution_count": 17,
   "id": "d37c43c8",
   "metadata": {},
   "outputs": [],
   "source": [
    "column_data1=table1.find_all('tr')"
   ]
  },
  {
   "cell_type": "code",
   "execution_count": 18,
   "id": "17e325ff",
   "metadata": {},
   "outputs": [],
   "source": [
    "#adding row data to the df2\n",
    "\n",
    "for row in column_data1[1:]:\n",
    "    row_data=row.find_all('td')\n",
    "    row=[data.text.strip() for data in row_data]\n",
    "    length=len(df1)\n",
    "    df1.loc[length]=row"
   ]
  },
  {
   "cell_type": "code",
   "execution_count": 19,
   "id": "4109440f",
   "metadata": {},
   "outputs": [
    {
     "data": {
      "text/plain": [
       "['100',\n",
       " 'Qualcomm',\n",
       " 'Technology',\n",
       " '44,200',\n",
       " '31.7%',\n",
       " '51,000',\n",
       " 'San Diego, California']"
      ]
     },
     "execution_count": 19,
     "metadata": {},
     "output_type": "execute_result"
    }
   ],
   "source": [
    "row"
   ]
  },
  {
   "cell_type": "code",
   "execution_count": 20,
   "id": "17ea3944",
   "metadata": {},
   "outputs": [
    {
     "data": {
      "text/html": [
       "<div>\n",
       "<style scoped>\n",
       "    .dataframe tbody tr th:only-of-type {\n",
       "        vertical-align: middle;\n",
       "    }\n",
       "\n",
       "    .dataframe tbody tr th {\n",
       "        vertical-align: top;\n",
       "    }\n",
       "\n",
       "    .dataframe thead th {\n",
       "        text-align: right;\n",
       "    }\n",
       "</style>\n",
       "<table border=\"1\" class=\"dataframe\">\n",
       "  <thead>\n",
       "    <tr style=\"text-align: right;\">\n",
       "      <th></th>\n",
       "      <th>Rank</th>\n",
       "      <th>Name</th>\n",
       "      <th>Industry</th>\n",
       "      <th>Revenue (USD millions)</th>\n",
       "      <th>Revenue growth</th>\n",
       "      <th>Employees</th>\n",
       "      <th>Headquarters</th>\n",
       "    </tr>\n",
       "  </thead>\n",
       "  <tbody>\n",
       "    <tr>\n",
       "      <th>0</th>\n",
       "      <td>1</td>\n",
       "      <td>Walmart</td>\n",
       "      <td>Retail</td>\n",
       "      <td>611,289</td>\n",
       "      <td>6.7%</td>\n",
       "      <td>2,100,000</td>\n",
       "      <td>Bentonville, Arkansas</td>\n",
       "    </tr>\n",
       "    <tr>\n",
       "      <th>1</th>\n",
       "      <td>2</td>\n",
       "      <td>Amazon</td>\n",
       "      <td>Retail and cloud computing</td>\n",
       "      <td>513,983</td>\n",
       "      <td>9.4%</td>\n",
       "      <td>1,540,000</td>\n",
       "      <td>Seattle, Washington</td>\n",
       "    </tr>\n",
       "    <tr>\n",
       "      <th>2</th>\n",
       "      <td>3</td>\n",
       "      <td>ExxonMobil</td>\n",
       "      <td>Petroleum industry</td>\n",
       "      <td>413,680</td>\n",
       "      <td>44.8%</td>\n",
       "      <td>62,000</td>\n",
       "      <td>Spring, Texas</td>\n",
       "    </tr>\n",
       "    <tr>\n",
       "      <th>3</th>\n",
       "      <td>4</td>\n",
       "      <td>Apple</td>\n",
       "      <td>Electronics industry</td>\n",
       "      <td>394,328</td>\n",
       "      <td>7.8%</td>\n",
       "      <td>164,000</td>\n",
       "      <td>Cupertino, California</td>\n",
       "    </tr>\n",
       "    <tr>\n",
       "      <th>4</th>\n",
       "      <td>5</td>\n",
       "      <td>UnitedHealth Group</td>\n",
       "      <td>Healthcare</td>\n",
       "      <td>324,162</td>\n",
       "      <td>12.7%</td>\n",
       "      <td>400,000</td>\n",
       "      <td>Minnetonka, Minnesota</td>\n",
       "    </tr>\n",
       "    <tr>\n",
       "      <th>...</th>\n",
       "      <td>...</td>\n",
       "      <td>...</td>\n",
       "      <td>...</td>\n",
       "      <td>...</td>\n",
       "      <td>...</td>\n",
       "      <td>...</td>\n",
       "      <td>...</td>\n",
       "    </tr>\n",
       "    <tr>\n",
       "      <th>95</th>\n",
       "      <td>96</td>\n",
       "      <td>Best Buy</td>\n",
       "      <td>Retail</td>\n",
       "      <td>46,298</td>\n",
       "      <td>10.6%</td>\n",
       "      <td>71,100</td>\n",
       "      <td>Richfield, Minnesota</td>\n",
       "    </tr>\n",
       "    <tr>\n",
       "      <th>96</th>\n",
       "      <td>97</td>\n",
       "      <td>Bristol-Myers Squibb</td>\n",
       "      <td>Pharmaceutical industry</td>\n",
       "      <td>46,159</td>\n",
       "      <td>0.5%</td>\n",
       "      <td>34,300</td>\n",
       "      <td>New York City, New York</td>\n",
       "    </tr>\n",
       "    <tr>\n",
       "      <th>97</th>\n",
       "      <td>98</td>\n",
       "      <td>United Airlines</td>\n",
       "      <td>Airline</td>\n",
       "      <td>44,955</td>\n",
       "      <td>82.5%</td>\n",
       "      <td>92,795</td>\n",
       "      <td>Chicago, Illinois</td>\n",
       "    </tr>\n",
       "    <tr>\n",
       "      <th>98</th>\n",
       "      <td>99</td>\n",
       "      <td>Thermo Fisher Scientific</td>\n",
       "      <td>Laboratory instruments</td>\n",
       "      <td>44,915</td>\n",
       "      <td>14.5%</td>\n",
       "      <td>130,000</td>\n",
       "      <td>Waltham, Massachusetts</td>\n",
       "    </tr>\n",
       "    <tr>\n",
       "      <th>99</th>\n",
       "      <td>100</td>\n",
       "      <td>Qualcomm</td>\n",
       "      <td>Technology</td>\n",
       "      <td>44,200</td>\n",
       "      <td>31.7%</td>\n",
       "      <td>51,000</td>\n",
       "      <td>San Diego, California</td>\n",
       "    </tr>\n",
       "  </tbody>\n",
       "</table>\n",
       "<p>100 rows × 7 columns</p>\n",
       "</div>"
      ],
      "text/plain": [
       "   Rank                      Name                    Industry  \\\n",
       "0     1                   Walmart                      Retail   \n",
       "1     2                    Amazon  Retail and cloud computing   \n",
       "2     3                ExxonMobil          Petroleum industry   \n",
       "3     4                     Apple        Electronics industry   \n",
       "4     5        UnitedHealth Group                  Healthcare   \n",
       "..  ...                       ...                         ...   \n",
       "95   96                  Best Buy                      Retail   \n",
       "96   97      Bristol-Myers Squibb     Pharmaceutical industry   \n",
       "97   98           United Airlines                     Airline   \n",
       "98   99  Thermo Fisher Scientific      Laboratory instruments   \n",
       "99  100                  Qualcomm                  Technology   \n",
       "\n",
       "   Revenue (USD millions) Revenue growth  Employees             Headquarters  \n",
       "0                 611,289           6.7%  2,100,000    Bentonville, Arkansas  \n",
       "1                 513,983           9.4%  1,540,000      Seattle, Washington  \n",
       "2                 413,680          44.8%     62,000            Spring, Texas  \n",
       "3                 394,328           7.8%    164,000    Cupertino, California  \n",
       "4                 324,162          12.7%    400,000    Minnetonka, Minnesota  \n",
       "..                    ...            ...        ...                      ...  \n",
       "95                 46,298          10.6%     71,100     Richfield, Minnesota  \n",
       "96                 46,159           0.5%     34,300  New York City, New York  \n",
       "97                 44,955          82.5%     92,795        Chicago, Illinois  \n",
       "98                 44,915          14.5%    130,000   Waltham, Massachusetts  \n",
       "99                 44,200          31.7%     51,000    San Diego, California  \n",
       "\n",
       "[100 rows x 7 columns]"
      ]
     },
     "execution_count": 20,
     "metadata": {},
     "output_type": "execute_result"
    }
   ],
   "source": [
    "df1"
   ]
  },
  {
   "cell_type": "code",
   "execution_count": 21,
   "id": "54a0776c",
   "metadata": {},
   "outputs": [],
   "source": [
    "#finding table2\n",
    "table2=soup.find_all('table')[2]"
   ]
  },
  {
   "cell_type": "code",
   "execution_count": 22,
   "id": "2d57bbf8",
   "metadata": {},
   "outputs": [],
   "source": [
    "#table2"
   ]
  },
  {
   "cell_type": "code",
   "execution_count": 23,
   "id": "4391e6d9",
   "metadata": {},
   "outputs": [],
   "source": [
    "#finding titles for table2\n",
    "title2=table2.find_all('th')"
   ]
  },
  {
   "cell_type": "code",
   "execution_count": 24,
   "id": "9f977215",
   "metadata": {},
   "outputs": [],
   "source": [
    "t2=[t.text.split() for t in title2]"
   ]
  },
  {
   "cell_type": "code",
   "execution_count": 25,
   "id": "f3d0ff46",
   "metadata": {},
   "outputs": [
    {
     "data": {
      "text/plain": [
       "[['Rank'],\n",
       " ['Name'],\n",
       " ['Industry'],\n",
       " ['Revenue', '(USD', 'billions)'],\n",
       " ['Employees'],\n",
       " ['Headquarters']]"
      ]
     },
     "execution_count": 25,
     "metadata": {},
     "output_type": "execute_result"
    }
   ],
   "source": [
    "t2"
   ]
  },
  {
   "cell_type": "code",
   "execution_count": 26,
   "id": "7ed09dc2",
   "metadata": {},
   "outputs": [],
   "source": [
    "t2[3]=['Revenue']"
   ]
  },
  {
   "cell_type": "code",
   "execution_count": 27,
   "id": "291cb1e8",
   "metadata": {},
   "outputs": [
    {
     "data": {
      "text/plain": [
       "[['Rank'],\n",
       " ['Name'],\n",
       " ['Industry'],\n",
       " ['Revenue'],\n",
       " ['Employees'],\n",
       " ['Headquarters']]"
      ]
     },
     "execution_count": 27,
     "metadata": {},
     "output_type": "execute_result"
    }
   ],
   "source": [
    "t2"
   ]
  },
  {
   "cell_type": "code",
   "execution_count": 28,
   "id": "69520547",
   "metadata": {},
   "outputs": [
    {
     "data": {
      "text/plain": [
       "['Rank', 'Name', 'Industry', 'Revenue', 'Employees', 'Headquarters']"
      ]
     },
     "execution_count": 28,
     "metadata": {},
     "output_type": "execute_result"
    }
   ],
   "source": [
    "t2x = []\n",
    "[t2x.extend(sublist) for sublist in t2]\n",
    "t2x"
   ]
  },
  {
   "cell_type": "code",
   "execution_count": 29,
   "id": "088b6014",
   "metadata": {},
   "outputs": [],
   "source": [
    "#creating a dataframe using titles as columns\n",
    "\n",
    "df2=pd.DataFrame(columns=t2x)"
   ]
  },
  {
   "cell_type": "code",
   "execution_count": 30,
   "id": "0634bc98",
   "metadata": {},
   "outputs": [
    {
     "data": {
      "text/html": [
       "<div>\n",
       "<style scoped>\n",
       "    .dataframe tbody tr th:only-of-type {\n",
       "        vertical-align: middle;\n",
       "    }\n",
       "\n",
       "    .dataframe tbody tr th {\n",
       "        vertical-align: top;\n",
       "    }\n",
       "\n",
       "    .dataframe thead th {\n",
       "        text-align: right;\n",
       "    }\n",
       "</style>\n",
       "<table border=\"1\" class=\"dataframe\">\n",
       "  <thead>\n",
       "    <tr style=\"text-align: right;\">\n",
       "      <th></th>\n",
       "      <th>Rank</th>\n",
       "      <th>Name</th>\n",
       "      <th>Industry</th>\n",
       "      <th>Revenue</th>\n",
       "      <th>Employees</th>\n",
       "      <th>Headquarters</th>\n",
       "    </tr>\n",
       "  </thead>\n",
       "  <tbody>\n",
       "  </tbody>\n",
       "</table>\n",
       "</div>"
      ],
      "text/plain": [
       "Empty DataFrame\n",
       "Columns: [Rank, Name, Industry, Revenue, Employees, Headquarters]\n",
       "Index: []"
      ]
     },
     "execution_count": 30,
     "metadata": {},
     "output_type": "execute_result"
    }
   ],
   "source": [
    "df2"
   ]
  },
  {
   "cell_type": "code",
   "execution_count": 31,
   "id": "40568da9",
   "metadata": {},
   "outputs": [],
   "source": [
    "column_data2=table2.find_all('tr')"
   ]
  },
  {
   "cell_type": "code",
   "execution_count": 32,
   "id": "e92ed08e",
   "metadata": {},
   "outputs": [],
   "source": [
    "#adding row data to df2\n",
    "for row in column_data2[1:]:\n",
    "    row_data=row.find_all('td')\n",
    "    row=[data.text.strip() for data in row_data] \n",
    "    length=len(df2)\n",
    "    df2.loc[length]=row"
   ]
  },
  {
   "cell_type": "code",
   "execution_count": 33,
   "id": "ff45d9d5",
   "metadata": {},
   "outputs": [
    {
     "data": {
      "text/html": [
       "<div>\n",
       "<style scoped>\n",
       "    .dataframe tbody tr th:only-of-type {\n",
       "        vertical-align: middle;\n",
       "    }\n",
       "\n",
       "    .dataframe tbody tr th {\n",
       "        vertical-align: top;\n",
       "    }\n",
       "\n",
       "    .dataframe thead th {\n",
       "        text-align: right;\n",
       "    }\n",
       "</style>\n",
       "<table border=\"1\" class=\"dataframe\">\n",
       "  <thead>\n",
       "    <tr style=\"text-align: right;\">\n",
       "      <th></th>\n",
       "      <th>Rank</th>\n",
       "      <th>Name</th>\n",
       "      <th>Industry</th>\n",
       "      <th>Revenue</th>\n",
       "      <th>Employees</th>\n",
       "      <th>Headquarters</th>\n",
       "    </tr>\n",
       "  </thead>\n",
       "  <tbody>\n",
       "    <tr>\n",
       "      <th>0</th>\n",
       "      <td>1</td>\n",
       "      <td>Cargill</td>\n",
       "      <td>Food industry</td>\n",
       "      <td>165</td>\n",
       "      <td>155,000</td>\n",
       "      <td>Minnetonka, Minnesota</td>\n",
       "    </tr>\n",
       "    <tr>\n",
       "      <th>1</th>\n",
       "      <td>2</td>\n",
       "      <td>Koch Industries</td>\n",
       "      <td>Conglomerate</td>\n",
       "      <td>125</td>\n",
       "      <td>120,000</td>\n",
       "      <td>Wichita, Kansas</td>\n",
       "    </tr>\n",
       "    <tr>\n",
       "      <th>2</th>\n",
       "      <td>3</td>\n",
       "      <td>Publix Super Markets</td>\n",
       "      <td>Retail</td>\n",
       "      <td>48</td>\n",
       "      <td>230,000</td>\n",
       "      <td>Winter Haven, Florida</td>\n",
       "    </tr>\n",
       "    <tr>\n",
       "      <th>3</th>\n",
       "      <td>4</td>\n",
       "      <td>Mars, Incorporated</td>\n",
       "      <td>Food industry</td>\n",
       "      <td>45</td>\n",
       "      <td>140,000</td>\n",
       "      <td>McLean, Virginia</td>\n",
       "    </tr>\n",
       "    <tr>\n",
       "      <th>4</th>\n",
       "      <td>5</td>\n",
       "      <td>Pilot Corporation</td>\n",
       "      <td>Petroleum industry and Retail</td>\n",
       "      <td>41.9</td>\n",
       "      <td>30,000</td>\n",
       "      <td>Knoxville, Tennessee</td>\n",
       "    </tr>\n",
       "    <tr>\n",
       "      <th>5</th>\n",
       "      <td>6</td>\n",
       "      <td>H-E-B</td>\n",
       "      <td>Retail</td>\n",
       "      <td>38.9</td>\n",
       "      <td>145,000</td>\n",
       "      <td>San Antonio, Texas</td>\n",
       "    </tr>\n",
       "    <tr>\n",
       "      <th>6</th>\n",
       "      <td>7</td>\n",
       "      <td>Reyes Holdings</td>\n",
       "      <td>Wholesaling</td>\n",
       "      <td>35.3</td>\n",
       "      <td>33,000</td>\n",
       "      <td>Rosemont, Illinois</td>\n",
       "    </tr>\n",
       "    <tr>\n",
       "      <th>7</th>\n",
       "      <td>8</td>\n",
       "      <td>C&amp;S Wholesale Grocers</td>\n",
       "      <td>Wholesaling</td>\n",
       "      <td>33</td>\n",
       "      <td>14,000</td>\n",
       "      <td>Keene, New Hampshire</td>\n",
       "    </tr>\n",
       "    <tr>\n",
       "      <th>8</th>\n",
       "      <td>9</td>\n",
       "      <td>Enterprise Holdings</td>\n",
       "      <td>Car rental</td>\n",
       "      <td>30</td>\n",
       "      <td>80,000</td>\n",
       "      <td>Clayton, Missouri</td>\n",
       "    </tr>\n",
       "    <tr>\n",
       "      <th>9</th>\n",
       "      <td>10</td>\n",
       "      <td>Love's</td>\n",
       "      <td>Petroleum industry and Retail</td>\n",
       "      <td>25.5</td>\n",
       "      <td>38,000</td>\n",
       "      <td>Oklahoma City, Oklahoma</td>\n",
       "    </tr>\n",
       "  </tbody>\n",
       "</table>\n",
       "</div>"
      ],
      "text/plain": [
       "  Rank                   Name                       Industry Revenue  \\\n",
       "0    1                Cargill                  Food industry     165   \n",
       "1    2        Koch Industries                   Conglomerate     125   \n",
       "2    3   Publix Super Markets                         Retail      48   \n",
       "3    4     Mars, Incorporated                  Food industry      45   \n",
       "4    5      Pilot Corporation  Petroleum industry and Retail    41.9   \n",
       "5    6                  H-E-B                         Retail    38.9   \n",
       "6    7         Reyes Holdings                    Wholesaling    35.3   \n",
       "7    8  C&S Wholesale Grocers                    Wholesaling      33   \n",
       "8    9    Enterprise Holdings                     Car rental      30   \n",
       "9   10                 Love's  Petroleum industry and Retail    25.5   \n",
       "\n",
       "  Employees             Headquarters  \n",
       "0   155,000    Minnetonka, Minnesota  \n",
       "1   120,000          Wichita, Kansas  \n",
       "2   230,000    Winter Haven, Florida  \n",
       "3   140,000         McLean, Virginia  \n",
       "4    30,000     Knoxville, Tennessee  \n",
       "5   145,000       San Antonio, Texas  \n",
       "6    33,000       Rosemont, Illinois  \n",
       "7    14,000     Keene, New Hampshire  \n",
       "8    80,000        Clayton, Missouri  \n",
       "9    38,000  Oklahoma City, Oklahoma  "
      ]
     },
     "execution_count": 33,
     "metadata": {},
     "output_type": "execute_result"
    }
   ],
   "source": [
    "df2"
   ]
  },
  {
   "cell_type": "code",
   "execution_count": 35,
   "id": "ce7099e6",
   "metadata": {},
   "outputs": [],
   "source": [
    "#creating CSV Files using tables\n",
    "\n",
    "df1.to_csv(r'C:\\Users\\asuna\\Downloads\\scraped\\wikit1.csv',index=False)\n",
    "df2.to_csv(r'C:\\Users\\asuna\\Downloads\\scraped\\wikit2.csv',index=False)"
   ]
  },
  {
   "cell_type": "code",
   "execution_count": null,
   "id": "99ae21c3",
   "metadata": {},
   "outputs": [],
   "source": []
  }
 ],
 "metadata": {
  "kernelspec": {
   "display_name": "Python 3 (ipykernel)",
   "language": "python",
   "name": "python3"
  },
  "language_info": {
   "codemirror_mode": {
    "name": "ipython",
    "version": 3
   },
   "file_extension": ".py",
   "mimetype": "text/x-python",
   "name": "python",
   "nbconvert_exporter": "python",
   "pygments_lexer": "ipython3",
   "version": "3.11.5"
  }
 },
 "nbformat": 4,
 "nbformat_minor": 5
}

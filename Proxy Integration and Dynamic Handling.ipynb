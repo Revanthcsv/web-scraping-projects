{
 "cells": [
  {
   "cell_type": "markdown",
   "id": "85ddbe5e",
   "metadata": {},
   "source": [
    "## Task-4 : Proxy Integration and Dynamic Handling "
   ]
  },
  {
   "cell_type": "markdown",
   "id": "b9460792",
   "metadata": {},
   "source": [
    "The IMDB website was accessed and scraped, utilizing proxies due to its restrictive scraping policies. Two distinct pages were targeted for scraping, employing a combination of Selenium and BeautifulSoup. Subsequently, the scraped data was consolidated into a dataframe for convenient storage and analysis."
   ]
  },
  {
   "cell_type": "markdown",
   "id": "8cfeb270",
   "metadata": {},
   "source": [
    "### NOTE\n",
    "-> This assessment is mainly focused on Proxy integration. so, error handling and some potentional delays are not considered.\n",
    "\n",
    "->The code runs only if user is using firebox as browser.Code need to be changed according to browser"
   ]
  },
  {
   "cell_type": "code",
   "execution_count": 1,
   "id": "0991da7f",
   "metadata": {},
   "outputs": [],
   "source": [
    "#importing required libraries\n",
    "import random\n",
    "from selenium import webdriver\n",
    "from selenium.webdriver.firefox.service import Service\n",
    "from selenium.webdriver.firefox.options import Options\n",
    "from selenium.webdriver.support.ui import WebDriverWait\n",
    "from selenium.webdriver.support import expected_conditions as EC\n",
    "from selenium.webdriver.common.by import By\n",
    "from bs4 import BeautifulSoup\n",
    "import time\n",
    "import pandas as pd\n",
    "import warnings\n",
    "warnings.filterwarnings('ignore')"
   ]
  },
  {
   "cell_type": "code",
   "execution_count": 2,
   "id": "facd77ba",
   "metadata": {},
   "outputs": [],
   "source": [
    "#list of proxies from proxyscrape.com\n",
    "proxies=['20.235.159.154:80',\n",
    "'20.235.159.154:3128',\n",
    "'103.159.90.14:83',\n",
    "'114.143.0.177:80',\n",
    "'117.250.3.58:8080',\n",
    "'149.129.176.63:6666',\n",
    "'210.212.39.138:8080']"
   ]
  },
  {
   "cell_type": "code",
   "execution_count": 3,
   "id": "230d1515",
   "metadata": {},
   "outputs": [],
   "source": [
    "#creating a proxy function for setting up a proxy webdriver\n",
    "def proxy():\n",
    "    return random.choice(proxies)"
   ]
  },
  {
   "cell_type": "code",
   "execution_count": 4,
   "id": "c43ec055",
   "metadata": {},
   "outputs": [],
   "source": [
    "#setting up webdriver forfirefox\n",
    "#updating path to geckodriver\n",
    "options=Options()\n",
    "options.add_argument(f'--proxy-server=http://{proxy}')\n",
    "service=Service(r'C:\\users\\asuna\\Downloads\\geckodriver.exe')\n",
    "driver= webdriver.Firefox(service=service,options=options)\n",
    "driver.maximize_window()\n",
    "url='https://www.imdb.com/'\n",
    "driver.get(url)"
   ]
  },
  {
   "cell_type": "code",
   "execution_count": 5,
   "id": "6fd30943",
   "metadata": {},
   "outputs": [
    {
     "name": "stdout",
     "output_type": "stream",
     "text": [
      "Entered Menu\n"
     ]
    }
   ],
   "source": [
    "#Automating path to Menu\n",
    "\n",
    "WebDriverWait(driver, 10).until(EC.presence_of_element_located((By.CLASS_NAME, 'ipc-responsive-button')))\n",
    "menu_bar = driver.find_elements(By.CLASS_NAME, 'ipc-responsive-button')\n",
    "menu_bar[0].click()\n",
    "print('Entered Menu')"
   ]
  },
  {
   "cell_type": "code",
   "execution_count": 6,
   "id": "0faadff7",
   "metadata": {},
   "outputs": [
    {
     "name": "stdout",
     "output_type": "stream",
     "text": [
      "Top 250 movies list is visble\n"
     ]
    }
   ],
   "source": [
    "#Automating path to required table\n",
    "\n",
    "WebDriverWait(driver, 10).until(EC.presence_of_element_located((By.LINK_TEXT, 'Top 250 Movies')))\n",
    "film = driver.find_elements(By.LINK_TEXT, 'Top 250 Movies')\n",
    "film[0].click()\n",
    "print('Top 250 movies list is visble')\n",
    "time.sleep(10)"
   ]
  },
  {
   "cell_type": "code",
   "execution_count": 7,
   "id": "f9d6a854",
   "metadata": {},
   "outputs": [
    {
     "data": {
      "text/plain": [
       "'\\n#nativigating towards top 250 shows button before scraping movie titles\\nelement = driver.find_element(By.LINK_TEXT,\\'Top 250 TV Shows\\')\\ndriver.execute_script(\"arguments[0].scrollIntoView();\", element)\\n\\n#Scraping movie titles using selinium\\nfilm=driver.find_elements(By.CLASS_NAME,\\'ipc-title-link-wrapper\\')\\nmovies=[movie.text.strip() for movie in film]\\nlen(movies)\\n#NOTE: length need to be 258 if not wait for page to reload\\n\\nelement.click()\\ntime.sleep(10)\\n\\n'"
      ]
     },
     "execution_count": 7,
     "metadata": {},
     "output_type": "execute_result"
    }
   ],
   "source": [
    "#alternative path for navigating towards top 250 shows and scraping top 250 movies\n",
    "'''\n",
    "#nativigating towards top 250 shows button before scraping movie titles\n",
    "element = driver.find_element(By.LINK_TEXT,'Top 250 TV Shows')\n",
    "driver.execute_script(\"arguments[0].scrollIntoView();\", element)\n",
    "\n",
    "#Scraping movie titles using selinium\n",
    "film=driver.find_elements(By.CLASS_NAME,'ipc-title-link-wrapper')\n",
    "movies=[movie.text.strip() for movie in film]\n",
    "len(movies)\n",
    "#NOTE: length need to be 258 if not wait for page to reload\n",
    "\n",
    "element.click()\n",
    "time.sleep(10)\n",
    "\n",
    "'''"
   ]
  },
  {
   "cell_type": "code",
   "execution_count": 8,
   "id": "b5ad41a7",
   "metadata": {
    "scrolled": true
   },
   "outputs": [
    {
     "data": {
      "text/plain": [
       "258"
      ]
     },
     "execution_count": 8,
     "metadata": {},
     "output_type": "execute_result"
    }
   ],
   "source": [
    "#Scraping movie titles using selinium\n",
    "film=driver.find_elements(By.CLASS_NAME,'ipc-title-link-wrapper')\n",
    "movies=[movie.text.strip() for movie in film]\n",
    "len(movies)\n",
    "#NOTE: length need to be 258 if not wait for page to reload"
   ]
  },
  {
   "cell_type": "code",
   "execution_count": 9,
   "id": "bd12bb87",
   "metadata": {},
   "outputs": [
    {
     "name": "stdout",
     "output_type": "stream",
     "text": [
      "Entered Menu\n"
     ]
    }
   ],
   "source": [
    "#Navgating path back to Menu\n",
    "WebDriverWait(driver, 10).until(EC.presence_of_element_located((By.CLASS_NAME, 'ipc-responsive-button')))\n",
    "menu_bar = driver.find_elements(By.CLASS_NAME, 'ipc-responsive-button')\n",
    "menu_bar[0].click() #clicking on menu button\n",
    "print('Entered Menu')"
   ]
  },
  {
   "cell_type": "code",
   "execution_count": 10,
   "id": "774001fe",
   "metadata": {},
   "outputs": [
    {
     "name": "stdout",
     "output_type": "stream",
     "text": [
      "Top 250 Shows list is visble\n"
     ]
    }
   ],
   "source": [
    "#Automating path to Top 250 shows list\n",
    "time.sleep(3)\n",
    "WebDriverWait(driver, 40).until(EC.presence_of_element_located((By.LINK_TEXT, 'Top 250 TV Shows')))\n",
    "TV = driver.find_elements(By.LINK_TEXT, 'Top 250 TV Shows')\n",
    "TV[0].click()\n",
    "print('Top 250 Shows list is visble')\n",
    "time.sleep(10)"
   ]
  },
  {
   "cell_type": "code",
   "execution_count": 11,
   "id": "5196b6cc",
   "metadata": {},
   "outputs": [
    {
     "data": {
      "text/plain": [
       "258"
      ]
     },
     "execution_count": 11,
     "metadata": {},
     "output_type": "execute_result"
    }
   ],
   "source": [
    "page_source=driver.page_source\n",
    "driver.quit()\n",
    "soup=BeautifulSoup(page_source,'html.parser')\n",
    "#Scraping TV Shows Titles using beautiful soup\n",
    "shows=soup.find_all(class_='ipc-title-link-wrapper')\n",
    "# Making a list of Shows\n",
    "Shows=[show.text for show in shows]\n",
    "len(Shows)\n",
    "#NOTE: length need to be 258 if not wait for page to reload"
   ]
  },
  {
   "cell_type": "markdown",
   "id": "457ce082",
   "metadata": {},
   "source": [
    "handling the Data Frame"
   ]
  },
  {
   "cell_type": "code",
   "execution_count": 12,
   "id": "2845266a",
   "metadata": {},
   "outputs": [],
   "source": [
    "#Creating a dataframe\n",
    "\n",
    "Top_250=pd.DataFrame({'Movies':movies,'Shows':Shows})"
   ]
  },
  {
   "cell_type": "code",
   "execution_count": 13,
   "id": "724f7e23",
   "metadata": {},
   "outputs": [],
   "source": [
    "#There need to be only 250 rows so remaining row need to be removed\n",
    "Top_250=Top_250[:250]"
   ]
  },
  {
   "cell_type": "code",
   "execution_count": 14,
   "id": "6a7b0890",
   "metadata": {},
   "outputs": [
    {
     "data": {
      "text/html": [
       "<div>\n",
       "<style scoped>\n",
       "    .dataframe tbody tr th:only-of-type {\n",
       "        vertical-align: middle;\n",
       "    }\n",
       "\n",
       "    .dataframe tbody tr th {\n",
       "        vertical-align: top;\n",
       "    }\n",
       "\n",
       "    .dataframe thead th {\n",
       "        text-align: right;\n",
       "    }\n",
       "</style>\n",
       "<table border=\"1\" class=\"dataframe\">\n",
       "  <thead>\n",
       "    <tr style=\"text-align: right;\">\n",
       "      <th></th>\n",
       "      <th>Movies</th>\n",
       "      <th>Shows</th>\n",
       "    </tr>\n",
       "  </thead>\n",
       "  <tbody>\n",
       "    <tr>\n",
       "      <th>245</th>\n",
       "      <td>246. It Happened One Night</td>\n",
       "      <td>246. Your Lie in April</td>\n",
       "    </tr>\n",
       "    <tr>\n",
       "      <th>246</th>\n",
       "      <td>247. Drishyam</td>\n",
       "      <td>247. Community</td>\n",
       "    </tr>\n",
       "    <tr>\n",
       "      <th>247</th>\n",
       "      <td>248. Gangs of Wasseypur</td>\n",
       "      <td>248. Tear Along the Dotted Line</td>\n",
       "    </tr>\n",
       "    <tr>\n",
       "      <th>248</th>\n",
       "      <td>249. Dances with Wolves</td>\n",
       "      <td>249. Chef's Table</td>\n",
       "    </tr>\n",
       "    <tr>\n",
       "      <th>249</th>\n",
       "      <td>250. Aladdin</td>\n",
       "      <td>250. Foyle's War</td>\n",
       "    </tr>\n",
       "  </tbody>\n",
       "</table>\n",
       "</div>"
      ],
      "text/plain": [
       "                         Movies                            Shows\n",
       "245  246. It Happened One Night           246. Your Lie in April\n",
       "246               247. Drishyam                   247. Community\n",
       "247     248. Gangs of Wasseypur  248. Tear Along the Dotted Line\n",
       "248     249. Dances with Wolves                249. Chef's Table\n",
       "249                250. Aladdin                 250. Foyle's War"
      ]
     },
     "execution_count": 14,
     "metadata": {},
     "output_type": "execute_result"
    }
   ],
   "source": [
    "Top_250.tail()"
   ]
  },
  {
   "cell_type": "code",
   "execution_count": 15,
   "id": "977f702a",
   "metadata": {},
   "outputs": [],
   "source": [
    "#Creating a function to remove numbers before the titles\n",
    "def col(x):\n",
    "    c=x.split('. ')\n",
    "    p=c[1]\n",
    "    return p\n",
    "Top_250['Movies']=Top_250['Movies'].apply(lambda x:col(x))\n",
    "Top_250['Shows']=Top_250['Shows'].apply(lambda x:col(x))"
   ]
  },
  {
   "cell_type": "code",
   "execution_count": 16,
   "id": "bc46043a",
   "metadata": {},
   "outputs": [
    {
     "data": {
      "text/html": [
       "<div>\n",
       "<style scoped>\n",
       "    .dataframe tbody tr th:only-of-type {\n",
       "        vertical-align: middle;\n",
       "    }\n",
       "\n",
       "    .dataframe tbody tr th {\n",
       "        vertical-align: top;\n",
       "    }\n",
       "\n",
       "    .dataframe thead th {\n",
       "        text-align: right;\n",
       "    }\n",
       "</style>\n",
       "<table border=\"1\" class=\"dataframe\">\n",
       "  <thead>\n",
       "    <tr style=\"text-align: right;\">\n",
       "      <th></th>\n",
       "      <th>Movies</th>\n",
       "      <th>Shows</th>\n",
       "    </tr>\n",
       "  </thead>\n",
       "  <tbody>\n",
       "    <tr>\n",
       "      <th>0</th>\n",
       "      <td>The Shawshank Redemption</td>\n",
       "      <td>Breaking Bad</td>\n",
       "    </tr>\n",
       "    <tr>\n",
       "      <th>1</th>\n",
       "      <td>The Godfather</td>\n",
       "      <td>Planet Earth II</td>\n",
       "    </tr>\n",
       "    <tr>\n",
       "      <th>2</th>\n",
       "      <td>The Dark Knight</td>\n",
       "      <td>Planet Earth</td>\n",
       "    </tr>\n",
       "    <tr>\n",
       "      <th>3</th>\n",
       "      <td>The Godfather Part II</td>\n",
       "      <td>Band of Brothers</td>\n",
       "    </tr>\n",
       "    <tr>\n",
       "      <th>4</th>\n",
       "      <td>12 Angry Men</td>\n",
       "      <td>Chernobyl</td>\n",
       "    </tr>\n",
       "  </tbody>\n",
       "</table>\n",
       "</div>"
      ],
      "text/plain": [
       "                     Movies             Shows\n",
       "0  The Shawshank Redemption      Breaking Bad\n",
       "1             The Godfather   Planet Earth II\n",
       "2           The Dark Knight      Planet Earth\n",
       "3     The Godfather Part II  Band of Brothers\n",
       "4              12 Angry Men         Chernobyl"
      ]
     },
     "execution_count": 16,
     "metadata": {},
     "output_type": "execute_result"
    }
   ],
   "source": [
    "#Final Table\n",
    "Top_250.head()"
   ]
  },
  {
   "cell_type": "code",
   "execution_count": null,
   "id": "395686f6",
   "metadata": {},
   "outputs": [],
   "source": []
  },
  {
   "cell_type": "code",
   "execution_count": null,
   "id": "e58e3431",
   "metadata": {},
   "outputs": [],
   "source": []
  }
 ],
 "metadata": {
  "kernelspec": {
   "display_name": "Python 3 (ipykernel)",
   "language": "python",
   "name": "python3"
  },
  "language_info": {
   "codemirror_mode": {
    "name": "ipython",
    "version": 3
   },
   "file_extension": ".py",
   "mimetype": "text/x-python",
   "name": "python",
   "nbconvert_exporter": "python",
   "pygments_lexer": "ipython3",
   "version": "3.11.5"
  }
 },
 "nbformat": 4,
 "nbformat_minor": 5
}

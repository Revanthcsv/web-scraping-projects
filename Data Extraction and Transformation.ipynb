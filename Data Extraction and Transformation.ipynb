{
 "cells": [
  {
   "cell_type": "markdown",
   "id": "ca86c86d",
   "metadata": {},
   "source": [
    "## Task-3 Data Extraction and Transformation"
   ]
  },
  {
   "cell_type": "markdown",
   "id": "67a50779",
   "metadata": {},
   "source": [
    "In Task-1 the menu items and their price are made it to a list and printed.so, In this notebook instead of printing the menu is made into a dataframe where basic data cleaning and Transformation is done"
   ]
  },
  {
   "cell_type": "code",
   "execution_count": 1,
   "id": "0ea8352c",
   "metadata": {},
   "outputs": [],
   "source": [
    "#importing necessary libraries\n",
    "\n",
    "from selenium import webdriver\n",
    "from selenium.webdriver.firefox.service import Service\n",
    "from selenium.webdriver.common.by import By\n",
    "from bs4 import BeautifulSoup\n",
    "import time"
   ]
  },
  {
   "cell_type": "code",
   "execution_count": 2,
   "id": "8fb9d46a",
   "metadata": {},
   "outputs": [],
   "source": [
    "#setting up webdriver forfirefox\n",
    "#updating path to geckodriver\n",
    "service=Service(r'C:\\users\\asuna\\Downloads\\geckodriver.exe') #different for different devices\n",
    "driver= webdriver.Firefox(service=service)\n",
    "url='https://magicpin.in/New-Delhi/Janpath/Restaurant/HaldiramS/store/572293/delivery/'  #taken a restaurant which have hidden element in the items list\n",
    "driver.get(url)\n",
    "#giving time to fully load the page\n",
    "time.sleep(3)"
   ]
  },
  {
   "cell_type": "code",
   "execution_count": 3,
   "id": "832f51da",
   "metadata": {},
   "outputs": [
    {
     "name": "stdout",
     "output_type": "stream",
     "text": [
      "Number of click=14\n"
     ]
    }
   ],
   "source": [
    "#expanding the hidden element and counting number clicks\n",
    "count=0\n",
    "hidden_elements=driver.find_elements(By.CLASS_NAME,'minimiseIcon')\n",
    "if hidden_elements:\n",
    "    for element in hidden_elements:\n",
    "        element.click()\n",
    "        count+=1\n",
    "else:\n",
    "    print('No hidden elements')\n",
    "print(f'Number of click={count}')"
   ]
  },
  {
   "cell_type": "code",
   "execution_count": 4,
   "id": "ea2e148e",
   "metadata": {},
   "outputs": [],
   "source": [
    "#Getting the page source after elements are expanded\n",
    "page_source=driver.page_source\n",
    "#closing the tab\n",
    "driver.quit()"
   ]
  },
  {
   "cell_type": "code",
   "execution_count": 5,
   "id": "16175fef",
   "metadata": {},
   "outputs": [],
   "source": [
    "#Scraping items and price\n",
    "soup=BeautifulSoup(page_source,'html.parser')\n",
    "\n",
    "# Scraping item and prices\n",
    "items = soup.find_all(class_=\"itemName\")\n",
    "prices = soup.find_all(class_=\"itemPrice\")\n",
    "\n",
    "item_names=[item.text.strip() for item in items]\n",
    "price=[price.text.strip() for price in prices]"
   ]
  },
  {
   "cell_type": "code",
   "execution_count": 6,
   "id": "249e0a6d",
   "metadata": {},
   "outputs": [],
   "source": [
    "import pandas as pd"
   ]
  },
  {
   "cell_type": "code",
   "execution_count": 7,
   "id": "afb59e8f",
   "metadata": {},
   "outputs": [],
   "source": [
    "#Making a Dataframe\n",
    "df=pd.DataFrame({'Item':item_names,'Price':price})"
   ]
  },
  {
   "cell_type": "code",
   "execution_count": 8,
   "id": "77b137f6",
   "metadata": {},
   "outputs": [
    {
     "data": {
      "text/html": [
       "<div>\n",
       "<style scoped>\n",
       "    .dataframe tbody tr th:only-of-type {\n",
       "        vertical-align: middle;\n",
       "    }\n",
       "\n",
       "    .dataframe tbody tr th {\n",
       "        vertical-align: top;\n",
       "    }\n",
       "\n",
       "    .dataframe thead th {\n",
       "        text-align: right;\n",
       "    }\n",
       "</style>\n",
       "<table border=\"1\" class=\"dataframe\">\n",
       "  <thead>\n",
       "    <tr style=\"text-align: right;\">\n",
       "      <th></th>\n",
       "      <th>Item</th>\n",
       "      <th>Price</th>\n",
       "    </tr>\n",
       "  </thead>\n",
       "  <tbody>\n",
       "    <tr>\n",
       "      <th>130</th>\n",
       "      <td>Kadhi Pakora (300g)</td>\n",
       "      <td>₹72</td>\n",
       "    </tr>\n",
       "    <tr>\n",
       "      <th>131</th>\n",
       "      <td>Paneer Makhani (300g)</td>\n",
       "      <td>₹140</td>\n",
       "    </tr>\n",
       "    <tr>\n",
       "      <th>132</th>\n",
       "      <td>Purani Dilli Ke Chole</td>\n",
       "      <td>₹76</td>\n",
       "    </tr>\n",
       "    <tr>\n",
       "      <th>133</th>\n",
       "      <td>Rajma Raseela (300g)</td>\n",
       "      <td>₹76</td>\n",
       "    </tr>\n",
       "    <tr>\n",
       "      <th>134</th>\n",
       "      <td>Shahi Paneer (300g)</td>\n",
       "      <td>₹140</td>\n",
       "    </tr>\n",
       "  </tbody>\n",
       "</table>\n",
       "</div>"
      ],
      "text/plain": [
       "                      Item Price\n",
       "130    Kadhi Pakora (300g)   ₹72\n",
       "131  Paneer Makhani (300g)  ₹140\n",
       "132  Purani Dilli Ke Chole   ₹76\n",
       "133   Rajma Raseela (300g)   ₹76\n",
       "134    Shahi Paneer (300g)  ₹140"
      ]
     },
     "execution_count": 8,
     "metadata": {},
     "output_type": "execute_result"
    }
   ],
   "source": [
    "df.tail()"
   ]
  },
  {
   "cell_type": "code",
   "execution_count": 9,
   "id": "2360a9fc",
   "metadata": {},
   "outputs": [
    {
     "name": "stdout",
     "output_type": "stream",
     "text": [
      "<class 'pandas.core.frame.DataFrame'>\n",
      "RangeIndex: 135 entries, 0 to 134\n",
      "Data columns (total 2 columns):\n",
      " #   Column  Non-Null Count  Dtype \n",
      "---  ------  --------------  ----- \n",
      " 0   Item    135 non-null    object\n",
      " 1   Price   135 non-null    object\n",
      "dtypes: object(2)\n",
      "memory usage: 2.2+ KB\n"
     ]
    }
   ],
   "source": [
    "df.info()"
   ]
  },
  {
   "cell_type": "code",
   "execution_count": 10,
   "id": "6e8dabb1",
   "metadata": {},
   "outputs": [
    {
     "data": {
      "text/plain": [
       "110"
      ]
     },
     "execution_count": 10,
     "metadata": {},
     "output_type": "execute_result"
    }
   ],
   "source": [
    "#CHecking for Unique values\n",
    "df['Item'].nunique()"
   ]
  },
  {
   "cell_type": "code",
   "execution_count": 11,
   "id": "74e35357",
   "metadata": {},
   "outputs": [
    {
     "data": {
      "text/plain": [
       "False    110\n",
       "True      25\n",
       "Name: count, dtype: int64"
      ]
     },
     "execution_count": 11,
     "metadata": {},
     "output_type": "execute_result"
    }
   ],
   "source": [
    "#Checking for total duplicate and total original Values\n",
    "duplicates = df.duplicated()\n",
    "duplicates.value_counts()"
   ]
  },
  {
   "cell_type": "code",
   "execution_count": 12,
   "id": "8f1e6751",
   "metadata": {},
   "outputs": [],
   "source": [
    "#removing duplicates\n",
    "df=df.drop_duplicates()"
   ]
  },
  {
   "cell_type": "code",
   "execution_count": 13,
   "id": "8947a05a",
   "metadata": {},
   "outputs": [
    {
     "data": {
      "text/plain": [
       "<bound method DataFrame.info of                       Item Price\n",
       "0           Choley Bhature  ₹190\n",
       "1               Kaju Katli  ₹529\n",
       "2             Idli Sambhar  ₹145\n",
       "3        Special Veg Thali  ₹395\n",
       "4             Samosa-2 Pcs   ₹42\n",
       "..                     ...   ...\n",
       "130    Kadhi Pakora (300g)   ₹72\n",
       "131  Paneer Makhani (300g)  ₹140\n",
       "132  Purani Dilli Ke Chole   ₹76\n",
       "133   Rajma Raseela (300g)   ₹76\n",
       "134    Shahi Paneer (300g)  ₹140\n",
       "\n",
       "[110 rows x 2 columns]>"
      ]
     },
     "execution_count": 13,
     "metadata": {},
     "output_type": "execute_result"
    }
   ],
   "source": [
    "df.info"
   ]
  },
  {
   "cell_type": "code",
   "execution_count": 14,
   "id": "f2dd33d1",
   "metadata": {},
   "outputs": [
    {
     "data": {
      "text/html": [
       "<div>\n",
       "<style scoped>\n",
       "    .dataframe tbody tr th:only-of-type {\n",
       "        vertical-align: middle;\n",
       "    }\n",
       "\n",
       "    .dataframe tbody tr th {\n",
       "        vertical-align: top;\n",
       "    }\n",
       "\n",
       "    .dataframe thead th {\n",
       "        text-align: right;\n",
       "    }\n",
       "</style>\n",
       "<table border=\"1\" class=\"dataframe\">\n",
       "  <thead>\n",
       "    <tr style=\"text-align: right;\">\n",
       "      <th></th>\n",
       "      <th>Item</th>\n",
       "      <th>Price</th>\n",
       "    </tr>\n",
       "  </thead>\n",
       "  <tbody>\n",
       "    <tr>\n",
       "      <th>105</th>\n",
       "      <td>Kadhi Pakora (300g)</td>\n",
       "      <td>₹72</td>\n",
       "    </tr>\n",
       "    <tr>\n",
       "      <th>106</th>\n",
       "      <td>Paneer Makhani (300g)</td>\n",
       "      <td>₹140</td>\n",
       "    </tr>\n",
       "    <tr>\n",
       "      <th>107</th>\n",
       "      <td>Purani Dilli Ke Chole</td>\n",
       "      <td>₹76</td>\n",
       "    </tr>\n",
       "    <tr>\n",
       "      <th>108</th>\n",
       "      <td>Rajma Raseela (300g)</td>\n",
       "      <td>₹76</td>\n",
       "    </tr>\n",
       "    <tr>\n",
       "      <th>109</th>\n",
       "      <td>Shahi Paneer (300g)</td>\n",
       "      <td>₹140</td>\n",
       "    </tr>\n",
       "  </tbody>\n",
       "</table>\n",
       "</div>"
      ],
      "text/plain": [
       "                      Item Price\n",
       "105    Kadhi Pakora (300g)   ₹72\n",
       "106  Paneer Makhani (300g)  ₹140\n",
       "107  Purani Dilli Ke Chole   ₹76\n",
       "108   Rajma Raseela (300g)   ₹76\n",
       "109    Shahi Paneer (300g)  ₹140"
      ]
     },
     "execution_count": 14,
     "metadata": {},
     "output_type": "execute_result"
    }
   ],
   "source": [
    "#Reseting the index values\n",
    "df2=df.reset_index(drop=True)\n",
    "df2.tail()"
   ]
  },
  {
   "cell_type": "code",
   "execution_count": 15,
   "id": "db500070",
   "metadata": {},
   "outputs": [],
   "source": [
    "#Function to remove '₹' symbol in price column\n",
    "def col(x):\n",
    "    c=x.split('₹')\n",
    "    p=c[1]\n",
    "    return p\n",
    "df2['Price']=df2['Price'].apply(lambda x:col(x))"
   ]
  },
  {
   "cell_type": "code",
   "execution_count": 16,
   "id": "d727d9a0",
   "metadata": {},
   "outputs": [
    {
     "data": {
      "text/html": [
       "<div>\n",
       "<style scoped>\n",
       "    .dataframe tbody tr th:only-of-type {\n",
       "        vertical-align: middle;\n",
       "    }\n",
       "\n",
       "    .dataframe tbody tr th {\n",
       "        vertical-align: top;\n",
       "    }\n",
       "\n",
       "    .dataframe thead th {\n",
       "        text-align: right;\n",
       "    }\n",
       "</style>\n",
       "<table border=\"1\" class=\"dataframe\">\n",
       "  <thead>\n",
       "    <tr style=\"text-align: right;\">\n",
       "      <th></th>\n",
       "      <th>Item</th>\n",
       "      <th>Price</th>\n",
       "    </tr>\n",
       "  </thead>\n",
       "  <tbody>\n",
       "    <tr>\n",
       "      <th>0</th>\n",
       "      <td>Choley Bhature</td>\n",
       "      <td>190</td>\n",
       "    </tr>\n",
       "    <tr>\n",
       "      <th>1</th>\n",
       "      <td>Kaju Katli</td>\n",
       "      <td>529</td>\n",
       "    </tr>\n",
       "    <tr>\n",
       "      <th>2</th>\n",
       "      <td>Idli Sambhar</td>\n",
       "      <td>145</td>\n",
       "    </tr>\n",
       "    <tr>\n",
       "      <th>3</th>\n",
       "      <td>Special Veg Thali</td>\n",
       "      <td>395</td>\n",
       "    </tr>\n",
       "    <tr>\n",
       "      <th>4</th>\n",
       "      <td>Samosa-2 Pcs</td>\n",
       "      <td>42</td>\n",
       "    </tr>\n",
       "  </tbody>\n",
       "</table>\n",
       "</div>"
      ],
      "text/plain": [
       "                Item Price\n",
       "0     Choley Bhature   190\n",
       "1         Kaju Katli   529\n",
       "2       Idli Sambhar   145\n",
       "3  Special Veg Thali   395\n",
       "4       Samosa-2 Pcs    42"
      ]
     },
     "execution_count": 16,
     "metadata": {},
     "output_type": "execute_result"
    }
   ],
   "source": [
    "df2.head()"
   ]
  },
  {
   "cell_type": "code",
   "execution_count": 17,
   "id": "4f386b16",
   "metadata": {},
   "outputs": [],
   "source": [
    "#Exporting into a CSV file\n",
    "df2.to_csv('Menu list.csv',index=False)"
   ]
  },
  {
   "cell_type": "code",
   "execution_count": null,
   "id": "4f64ca3d",
   "metadata": {},
   "outputs": [],
   "source": []
  }
 ],
 "metadata": {
  "kernelspec": {
   "display_name": "Python 3 (ipykernel)",
   "language": "python",
   "name": "python3"
  },
  "language_info": {
   "codemirror_mode": {
    "name": "ipython",
    "version": 3
   },
   "file_extension": ".py",
   "mimetype": "text/x-python",
   "name": "python",
   "nbconvert_exporter": "python",
   "pygments_lexer": "ipython3",
   "version": "3.11.5"
  }
 },
 "nbformat": 4,
 "nbformat_minor": 5
}
